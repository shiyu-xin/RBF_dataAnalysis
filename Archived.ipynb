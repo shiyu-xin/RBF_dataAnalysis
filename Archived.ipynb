{
 "cells": [
  {
   "cell_type": "code",
   "execution_count": null,
   "id": "95dc2dd1",
   "metadata": {},
   "outputs": [],
   "source": [
    "#Map of wells with temp. data\n",
    "dfPlotUpdate_temp = dfPlotUpdate[dfPlotUpdate['Data Type'].str.contains('Temp.')]\n",
    "\n",
    "fig = go.Figure()\n",
    "\n",
    "fig.add_trace(go.Scattermapbox(\n",
    "        visible=True,\n",
    "        lat=dfPlotUpdate_temp['Latitude'],\n",
    "        lon=dfPlotUpdate_temp['Longitude'],\n",
    "        mode='markers+text',\n",
    "        marker=go.scattermapbox.Marker(size=10,color='blue'),\n",
    "        hoverinfo = 'text',\n",
    "        name = 'MWs w/ temp. loggers',\n",
    "        textfont=dict(size=10, color='blue'),\n",
    "        text=dfPlotUpdate_temp['Well Name'],\n",
    "        textposition = \"bottom right\"))\n",
    "\n",
    "fig.add_trace(go.Scattermapbox(\n",
    "        visible=True,\n",
    "        lat=dfPlot2['LATITUDE'],\n",
    "        lon=dfPlot2['LONGITUDE'],\n",
    "        mode='markers+text',\n",
    "        marker=go.scattermapbox.Marker(size=15,color='black', opacity=0.4),\n",
    "        name = 'Cassions',\n",
    "        hoverinfo = 'text',\n",
    "        text=dfPlot2['NAME'],\n",
    "        textposition = \"bottom right\"))\n",
    "\n",
    "fig.update_layout(\n",
    "    margin=dict(l=0, t=30, r=0, b=0, pad=0),\n",
    "    showlegend=False,\n",
    "    autosize=False,\n",
    "    title = 'Well w/ Temperature Monitoring',\n",
    "    width = 1000,\n",
    "    height = 800,\n",
    "    mapbox_style='outdoors',\n",
    "    mapbox=dict(accesstoken=mapbox_access_token,\n",
    "                center=dict(lat=38.506,lon=-122.887), zoom=14)\n",
    ")\n",
    "\n",
    "\n",
    "fig.show()"
   ]
  }
 ],
 "metadata": {
  "kernelspec": {
   "display_name": "Python 3 (ipykernel)",
   "language": "python",
   "name": "python3"
  },
  "language_info": {
   "codemirror_mode": {
    "name": "ipython",
    "version": 3
   },
   "file_extension": ".py",
   "mimetype": "text/x-python",
   "name": "python",
   "nbconvert_exporter": "python",
   "pygments_lexer": "ipython3",
   "version": "3.9.12"
  }
 },
 "nbformat": 4,
 "nbformat_minor": 5
}
